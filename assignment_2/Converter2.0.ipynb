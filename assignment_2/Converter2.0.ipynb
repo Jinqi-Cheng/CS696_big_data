{
 "cells": [
  {
   "cell_type": "code",
   "execution_count": 1,
   "metadata": {},
   "outputs": [],
   "source": [
    "import os \n",
    "import glob\n",
    "from zipfile import ZipFile\n",
    "\n",
    "import numpy as np\n",
    "\n",
    "import pandas as pd\n",
    "pd.set_option('display.max_columns', 500)\n",
    "# import vaex.dataframe\n",
    "# import vaex.utils\n",
    "import vaex\n",
    "\n",
    "# from tqdm import  tqdm_notebook as tqdm\n",
    "# from tqdm import notebook.tqdm "
   ]
  },
  {
   "cell_type": "code",
   "execution_count": 2,
   "metadata": {},
   "outputs": [],
   "source": [
    "from tqdm.notebook import tqdm as tqdm"
   ]
  },
  {
   "cell_type": "code",
   "execution_count": 3,
   "metadata": {},
   "outputs": [
    {
     "name": "stdout",
     "output_type": "stream",
     "text": [
      "   VendorID\n",
      "0         2\n",
      "1         2\n",
      "2         2\n",
      "3         2\n",
      "4         2\n"
     ]
    }
   ],
   "source": [
    "c = pd.read_csv(\"./data/green_tripdata_2013-08.csv\",usecols=['VendorID'],index_col=False)\n",
    "print(c.head())"
   ]
  },
  {
   "cell_type": "code",
   "execution_count": 4,
   "metadata": {},
   "outputs": [],
   "source": [
    "col = {'passenger_count',\n",
    "       'trip_distance',\n",
    "       'pickup_longitude',\n",
    "       'pickup_latitude',\n",
    "       'fare_amount',\n",
    "       'dropoff_longitude',\n",
    "       'dropoff_latitude'}"
   ]
  },
  {
   "cell_type": "code",
   "execution_count": 5,
   "metadata": {},
   "outputs": [],
   "source": [
    "dtypes = {\n",
    "        'passenger_count':np.int16,\n",
    "       'trip_distance':np.float32,\n",
    "       'pickup_longitude':np.float32,\n",
    "       'pickup_latitude':np.float32,\n",
    "       'fare_amount':np.float32,\n",
    "       'dropoff_longitude':np.float32,\n",
    "       'dropoff_latitude':np.float32,\n",
    "}"
   ]
  },
  {
   "cell_type": "code",
   "execution_count": 13,
   "metadata": {},
   "outputs": [
    {
     "data": {
      "application/vnd.jupyter.widget-view+json": {
       "model_id": "",
       "version_major": 2,
       "version_minor": 0
      },
      "text/plain": [
       "HBox(children=(FloatProgress(value=0.0, description='Converting to hdf5 ...', max=34.0, style=ProgressStyle(de…"
      ]
     },
     "metadata": {},
     "output_type": "display_data"
    },
    {
     "name": "stdout",
     "output_type": "stream",
     "text": [
      "./data/green_tripdata_2016-06.csv\n",
      "./data/green_tripdata_2016-05.csv\n",
      "./data/green_tripdata_2016-04.csv\n",
      "./data/green_tripdata_2016-03.csv\n",
      "./data/green_tripdata_2016-02.csv\n",
      "./data/green_tripdata_2016-01.csv\n",
      "./data/green_tripdata_2015-12.csv\n",
      "./data/green_tripdata_2015-11.csv\n",
      "./data/green_tripdata_2015-10.csv\n",
      "./data/green_tripdata_2015-09.csv\n",
      "./data/green_tripdata_2015-08.csv\n",
      "./data/green_tripdata_2015-07.csv\n",
      "./data/green_tripdata_2015-06.csv\n",
      "./data/green_tripdata_2015-05.csv\n",
      "./data/green_tripdata_2015-04.csv\n",
      "./data/green_tripdata_2015-03.csv\n",
      "./data/green_tripdata_2015-02.csv\n",
      "./data/green_tripdata_2015-01.csv\n",
      "./data/green_tripdata_2014-12.csv\n",
      "./data/green_tripdata_2014-11.csv\n",
      "./data/green_tripdata_2014-10.csv\n",
      "./data/green_tripdata_2014-09.csv\n",
      "./data/green_tripdata_2014-08.csv\n",
      "./data/green_tripdata_2014-07.csv\n",
      "./data/green_tripdata_2014-06.csv\n",
      "./data/green_tripdata_2014-04.csv\n",
      "./data/green_tripdata_2014-03.csv\n",
      "./data/green_tripdata_2014-02.csv\n",
      "./data/green_tripdata_2014-01.csv\n",
      "./data/green_tripdata_2013-12.csv\n",
      "./data/green_tripdata_2013-11.csv\n",
      "./data/green_tripdata_2013-10.csv\n",
      "./data/green_tripdata_2013-09.csv\n",
      "./data/green_tripdata_2013-08.csv\n"
     ]
    }
   ],
   "source": [
    "dic = dict()\n",
    "\n",
    "\n",
    "lst = np.sort(np.array(glob.glob('./data/*.csv')))[::-1]\n",
    "output_dir = './data_output/hdf5/'\n",
    "for file in tqdm(lst,leave=False, desc=\"Converting to hdf5 ...\"):\n",
    "    print(file)\n",
    "    output_file = file.split('/')[-1][:-3]+'hdf5'\n",
    "    output = output_dir + output_file\n",
    "    pandas_df = pd.read_csv(file,encoding='latin')\n",
    "    t = tuple([item.lower() for item in list(pandas_df.columns)])\n",
    "    if t in dic:\n",
    "        dic[t].append(file)\n",
    "    else:\n",
    "        dic[t] = [file]\n",
    "    if 'pickup_longitude' in t:\n",
    "        pandas_df = pd.read_csv(file,encoding='latin',usecols=lambda x: x.lower() in col)\n",
    "#         pandas_df.rename(columns=rename_dict,inplace=True)\n",
    "        vaex_df = vaex.from_pandas(pandas_df,copy_index=False)\n",
    "        vaex_df.export_hdf5(path=output,progress=False)"
   ]
  },
  {
   "cell_type": "code",
   "execution_count": 2,
   "metadata": {},
   "outputs": [],
   "source": [
    "import re\n",
    "import glob\n",
    "import vaex\n",
    "import numpy as np\n",
    "\n",
    "def tryint(s):\n",
    "    try:\n",
    "        return int(s)\n",
    "    except:\n",
    "        return s\n",
    "\n",
    "def alphanum_key(s):\n",
    "    \"\"\" Turn a string into a list of string and number chunks.\n",
    "        \"z23a\" -> [\"z\", 23, \"a\"]\n",
    "    \"\"\"\n",
    "    return [ tryint(c) for c in re.split('([0-9]+)', s) ]\n",
    "# print(dic)"
   ]
  },
  {
   "cell_type": "code",
   "execution_count": 3,
   "metadata": {},
   "outputs": [
    {
     "name": "stdout",
     "output_type": "stream",
     "text": [
      "['./data_output/hdf5/green_tripdata_2013-08.hdf5'\n",
      " './data_output/hdf5/green_tripdata_2013-09.hdf5'\n",
      " './data_output/hdf5/green_tripdata_2013-10.hdf5'\n",
      " './data_output/hdf5/green_tripdata_2013-11.hdf5'\n",
      " './data_output/hdf5/green_tripdata_2013-12.hdf5'\n",
      " './data_output/hdf5/green_tripdata_2014-01.hdf5'\n",
      " './data_output/hdf5/green_tripdata_2014-02.hdf5'\n",
      " './data_output/hdf5/green_tripdata_2014-03.hdf5'\n",
      " './data_output/hdf5/green_tripdata_2014-04.hdf5'\n",
      " './data_output/hdf5/green_tripdata_2014-06.hdf5'\n",
      " './data_output/hdf5/green_tripdata_2014-07.hdf5'\n",
      " './data_output/hdf5/green_tripdata_2014-08.hdf5'\n",
      " './data_output/hdf5/green_tripdata_2014-09.hdf5'\n",
      " './data_output/hdf5/green_tripdata_2014-10.hdf5'\n",
      " './data_output/hdf5/green_tripdata_2014-11.hdf5'\n",
      " './data_output/hdf5/green_tripdata_2014-12.hdf5'\n",
      " './data_output/hdf5/green_tripdata_2015-01.hdf5'\n",
      " './data_output/hdf5/green_tripdata_2015-02.hdf5'\n",
      " './data_output/hdf5/green_tripdata_2015-03.hdf5'\n",
      " './data_output/hdf5/green_tripdata_2015-04.hdf5'\n",
      " './data_output/hdf5/green_tripdata_2015-05.hdf5'\n",
      " './data_output/hdf5/green_tripdata_2015-06.hdf5'\n",
      " './data_output/hdf5/green_tripdata_2015-07.hdf5'\n",
      " './data_output/hdf5/green_tripdata_2015-08.hdf5'\n",
      " './data_output/hdf5/green_tripdata_2015-09.hdf5'\n",
      " './data_output/hdf5/green_tripdata_2015-10.hdf5'\n",
      " './data_output/hdf5/green_tripdata_2015-11.hdf5'\n",
      " './data_output/hdf5/green_tripdata_2015-12.hdf5'\n",
      " './data_output/hdf5/green_tripdata_2016-01.hdf5'\n",
      " './data_output/hdf5/green_tripdata_2016-02.hdf5'\n",
      " './data_output/hdf5/green_tripdata_2016-03.hdf5'\n",
      " './data_output/hdf5/green_tripdata_2016-04.hdf5'\n",
      " './data_output/hdf5/green_tripdata_2016-05.hdf5'\n",
      " './data_output/hdf5/green_tripdata_2016-06.hdf5']\n"
     ]
    }
   ],
   "source": [
    "hdf5_list = glob.glob('./data_output/hdf5/*.hdf5')\n",
    "hdf5_list.sort(key=alphanum_key)\n",
    "hdf5_list = np.array(hdf5_list)\n",
    "print(hdf5_list)\n",
    "# assert len(hdf5_list) == 372, \"Incorrect number of files\""
   ]
  },
  {
   "cell_type": "code",
   "execution_count": 22,
   "metadata": {},
   "outputs": [
    {
     "name": "stderr",
     "output_type": "stream",
     "text": [
      "ERROR:MainThread:root:Internal Python error in the inspect module.\n",
      "Below is the traceback from this internal error.\n",
      "\n",
      "INFO:MainThread:root:\n",
      "Unfortunately, your original traceback can not be constructed.\n",
      "\n"
     ]
    },
    {
     "name": "stdout",
     "output_type": "stream",
     "text": [
      "Traceback (most recent call last):\n",
      "  File \"/usr/local/lib/python3.7/site-packages/IPython/core/interactiveshell.py\", line 3326, in run_code\n",
      "    exec(code_obj, self.user_global_ns, self.user_ns)\n",
      "  File \"<ipython-input-22-11c67b42b2c6>\", line 1, in <module>\n",
      "    get_ipython().system('ulimit -n 9999')\n",
      "  File \"/usr/local/lib/python3.7/site-packages/IPython/core/interactiveshell.py\", line 2453, in system_piped\n",
      "    self.user_ns['_exit_code'] = system(self.var_expand(cmd, depth=1))\n",
      "  File \"/usr/local/lib/python3.7/site-packages/IPython/utils/_process_posix.py\", line 156, in system\n",
      "  File \"/usr/local/lib/python3.7/site-packages/pexpect/pty_spawn.py\", line 204, in __init__\n",
      "  File \"/usr/local/lib/python3.7/site-packages/pexpect/pty_spawn.py\", line 303, in _spawn\n",
      "  File \"/usr/local/lib/python3.7/site-packages/pexpect/pty_spawn.py\", line 314, in _spawnpty\n",
      "  File \"/usr/local/lib/python3.7/site-packages/ptyprocess/ptyprocess.py\", line 223, in spawn\n",
      "OSError: [Errno 24] Too many open files\n",
      "\n",
      "During handling of the above exception, another exception occurred:\n",
      "\n",
      "Traceback (most recent call last):\n",
      "  File \"/usr/local/lib/python3.7/site-packages/IPython/core/interactiveshell.py\", line 2040, in showtraceback\n",
      "    stb = value._render_traceback_()\n",
      "AttributeError: 'OSError' object has no attribute '_render_traceback_'\n",
      "\n",
      "During handling of the above exception, another exception occurred:\n",
      "\n",
      "Traceback (most recent call last):\n",
      "  File \"/usr/local/lib/python3.7/site-packages/IPython/core/ultratb.py\", line 1101, in get_records\n",
      "  File \"/usr/local/lib/python3.7/site-packages/IPython/core/ultratb.py\", line 319, in wrapped\n",
      "  File \"/usr/local/lib/python3.7/site-packages/IPython/core/ultratb.py\", line 353, in _fixed_getinnerframes\n",
      "  File \"/usr/local/Cellar/python/3.7.4/Frameworks/Python.framework/Versions/3.7/lib/python3.7/inspect.py\", line 1502, in getinnerframes\n",
      "  File \"/usr/local/Cellar/python/3.7.4/Frameworks/Python.framework/Versions/3.7/lib/python3.7/inspect.py\", line 1460, in getframeinfo\n",
      "  File \"/usr/local/Cellar/python/3.7.4/Frameworks/Python.framework/Versions/3.7/lib/python3.7/inspect.py\", line 696, in getsourcefile\n",
      "  File \"/usr/local/Cellar/python/3.7.4/Frameworks/Python.framework/Versions/3.7/lib/python3.7/inspect.py\", line 725, in getmodule\n",
      "  File \"/usr/local/Cellar/python/3.7.4/Frameworks/Python.framework/Versions/3.7/lib/python3.7/inspect.py\", line 709, in getabsfile\n",
      "  File \"/usr/local/Cellar/python/3.7.4/Frameworks/Python.framework/Versions/3.7/lib/python3.7/posixpath.py\", line 383, in abspath\n",
      "OSError: [Errno 24] Too many open files\n"
     ]
    },
    {
     "ename": "OSError",
     "evalue": "[Errno 24] Too many open files",
     "output_type": "error",
     "traceback": [
      "\u001b[0;31m---------------------------------------------------------------------------\u001b[0m"
     ]
    }
   ],
   "source": [
    "!ulimit -n 9999"
   ]
  },
  {
   "cell_type": "code",
   "execution_count": 4,
   "metadata": {},
   "outputs": [],
   "source": [
    "# This is an important step\n",
    "master_df = vaex.open_many(hdf5_list)\n",
    "\n",
    "# exporting\n",
    "master_df.export_hdf5(path='./data_output/green_tripdata.hdf5')"
   ]
  },
  {
   "cell_type": "code",
   "execution_count": 5,
   "metadata": {},
   "outputs": [
    {
     "data": {
      "text/html": [
       "<table>\n",
       "<thead>\n",
       "<tr><th>#                                     </th><th>Pickup_longitude  </th><th>Pickup_latitude  </th><th>Dropoff_longitude  </th><th>Dropoff_latitude  </th><th>Passenger_count  </th><th>Trip_distance  </th><th>Fare_amount  </th></tr>\n",
       "</thead>\n",
       "<tbody>\n",
       "<tr><td><i style='opacity: 0.6'>0</i>         </td><td>0.0               </td><td>0.0              </td><td>1.0                </td><td>0.0               </td><td>21.25            </td><td>0.0            </td><td>0.0          </td></tr>\n",
       "<tr><td><i style='opacity: 0.6'>1</i>         </td><td>0.0               </td><td>0.0              </td><td>2.0                </td><td>0.0               </td><td>74.5             </td><td>0.0            </td><td>0.5          </td></tr>\n",
       "<tr><td><i style='opacity: 0.6'>2</i>         </td><td>0.0               </td><td>0.0              </td><td>1.0                </td><td>0.0               </td><td>1.0              </td><td>0.1            </td><td>0.0          </td></tr>\n",
       "<tr><td><i style='opacity: 0.6'>3</i>         </td><td>0.0               </td><td>0.0              </td><td>1.0                </td><td>0.0               </td><td>3.25             </td><td>0.0            </td><td>0.0          </td></tr>\n",
       "<tr><td><i style='opacity: 0.6'>4</i>         </td><td>0.0               </td><td>0.0              </td><td>1.0                </td><td>0.0               </td><td>8.5              </td><td>0.0            </td><td>0.5          </td></tr>\n",
       "<tr><td>...                                   </td><td>...               </td><td>...              </td><td>...                </td><td>...               </td><td>...              </td><td>...            </td><td>...          </td></tr>\n",
       "<tr><td><i style='opacity: 0.6'>43,878,099</i></td><td>-73.9957733154297 </td><td>40.6973762512207 </td><td>-73.9094009399414  </td><td>40.70884704589844 </td><td>1.0              </td><td>5.18           </td><td>21.5         </td></tr>\n",
       "<tr><td><i style='opacity: 0.6'>43,878,100</i></td><td>-73.99163055419923</td><td>40.69097137451172</td><td>-73.97225189208984 </td><td>40.6951560974121  </td><td>1.0              </td><td>1.53           </td><td>8.5          </td></tr>\n",
       "<tr><td><i style='opacity: 0.6'>43,878,101</i></td><td>-73.95021057128906</td><td>40.67359161376953</td><td>-73.96468353271484 </td><td>40.68282318115234 </td><td>1.0              </td><td>1.35           </td><td>7.0          </td></tr>\n",
       "<tr><td><i style='opacity: 0.6'>43,878,102</i></td><td>-73.95361328125   </td><td>40.79080581665039</td><td>-73.9559326171875  </td><td>40.77948760986328 </td><td>1.0              </td><td>1.01           </td><td>5.0          </td></tr>\n",
       "<tr><td><i style='opacity: 0.6'>43,878,103</i></td><td>-73.9537811279297 </td><td>40.79070663452149</td><td>-73.96780395507811 </td><td>40.80104064941406 </td><td>1.0              </td><td>1.54           </td><td>6.5          </td></tr>\n",
       "</tbody>\n",
       "</table>"
      ],
      "text/plain": [
       "#           Pickup_longitude    Pickup_latitude    Dropoff_longitude    Dropoff_latitude    Passenger_count    Trip_distance    Fare_amount\n",
       "0           0.0                 0.0                1.0                  0.0                 21.25              0.0              0.0\n",
       "1           0.0                 0.0                2.0                  0.0                 74.5               0.0              0.5\n",
       "2           0.0                 0.0                1.0                  0.0                 1.0                0.1              0.0\n",
       "3           0.0                 0.0                1.0                  0.0                 3.25               0.0              0.0\n",
       "4           0.0                 0.0                1.0                  0.0                 8.5                0.0              0.5\n",
       "...         ...                 ...                ...                  ...                 ...                ...              ...\n",
       "43,878,099  -73.9957733154297   40.6973762512207   -73.9094009399414    40.70884704589844   1.0                5.18             21.5\n",
       "43,878,100  -73.99163055419923  40.69097137451172  -73.97225189208984   40.6951560974121    1.0                1.53             8.5\n",
       "43,878,101  -73.95021057128906  40.67359161376953  -73.96468353271484   40.68282318115234   1.0                1.35             7.0\n",
       "43,878,102  -73.95361328125     40.79080581665039  -73.9559326171875    40.77948760986328   1.0                1.01             5.0\n",
       "43,878,103  -73.9537811279297   40.79070663452149  -73.96780395507811   40.80104064941406   1.0                1.54             6.5"
      ]
     },
     "execution_count": 5,
     "metadata": {},
     "output_type": "execute_result"
    }
   ],
   "source": [
    "df = vaex.open('./data_output/green_tripdata.hdf5')\n",
    "df"
   ]
  },
  {
   "cell_type": "code",
   "execution_count": null,
   "metadata": {},
   "outputs": [],
   "source": []
  }
 ],
 "metadata": {
  "kernelspec": {
   "display_name": "Python 3",
   "language": "python",
   "name": "python3"
  },
  "language_info": {
   "codemirror_mode": {
    "name": "ipython",
    "version": 3
   },
   "file_extension": ".py",
   "mimetype": "text/x-python",
   "name": "python",
   "nbconvert_exporter": "python",
   "pygments_lexer": "ipython3",
   "version": "3.7.4"
  }
 },
 "nbformat": 4,
 "nbformat_minor": 2
}
