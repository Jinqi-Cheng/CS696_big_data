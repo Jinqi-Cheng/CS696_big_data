{
 "cells": [
  {
   "cell_type": "code",
   "execution_count": 1,
   "metadata": {},
   "outputs": [],
   "source": [
    "import vaex\n",
    "from vaex.ui.colormaps import cm_plusmin\n",
    "\n",
    "import numpy as np\n",
    "import pylab as plt\n",
    "import seaborn as sns\n",
    "\n",
    "import warnings\n",
    "warnings.filterwarnings(\"ignore\")"
   ]
  },
  {
   "cell_type": "code",
   "execution_count": 2,
   "metadata": {},
   "outputs": [],
   "source": [
    "SMALL_SIZE = 12\n",
    "MEDIUM_SIZE = 14\n",
    "BIGGER_SIZE = 16\n",
    "\n",
    "plt.rc('font', size=SMALL_SIZE)          # controls default text sizes\n",
    "plt.rc('axes', titlesize=SMALL_SIZE)     # fontsize of the axes title\n",
    "plt.rc('axes', labelsize=MEDIUM_SIZE)    # fontsize of the x and y labels\n",
    "plt.rc('xtick', labelsize=SMALL_SIZE)    # fontsize of the tick labels\n",
    "plt.rc('ytick', labelsize=SMALL_SIZE)    # fontsize of the tick labels\n",
    "plt.rc('legend', fontsize=SMALL_SIZE)    # legend fontsize\n",
    "plt.rc('figure', titlesize=BIGGER_SIZE)  # fontsize of the figure title"
   ]
  },
  {
   "cell_type": "code",
   "execution_count": 4,
   "metadata": {},
   "outputs": [
    {
     "name": "stdout",
     "output_type": "stream",
     "text": [
      "-rw-r--r--  1 kevin  staff   2.3G Mar 20 19:00 ./data_output/green_tripdata.hdf5\r\n"
     ]
    }
   ],
   "source": [
    "# Check the file size on disk\n",
    "!ls -l -h ./data_output/green_tripdata.hdf5"
   ]
  },
  {
   "cell_type": "code",
   "execution_count": 6,
   "metadata": {},
   "outputs": [],
   "source": [
    "# Read in the data from disk\n",
    "df = vaex.open('./data_output/green_tripdata.hdf5')"
   ]
  },
  {
   "cell_type": "code",
   "execution_count": 7,
   "metadata": {},
   "outputs": [
    {
     "data": {
      "text/html": [
       "<table>\n",
       "<thead>\n",
       "<tr><th>#                                     </th><th>Pickup_longitude  </th><th>Pickup_latitude  </th><th>Dropoff_longitude  </th><th>Dropoff_latitude  </th><th>Passenger_count  </th><th>Trip_distance  </th><th>Fare_amount  </th></tr>\n",
       "</thead>\n",
       "<tbody>\n",
       "<tr><td><i style='opacity: 0.6'>0</i>         </td><td>0.0               </td><td>0.0              </td><td>1.0                </td><td>0.0               </td><td>21.25            </td><td>0.0            </td><td>0.0          </td></tr>\n",
       "<tr><td><i style='opacity: 0.6'>1</i>         </td><td>0.0               </td><td>0.0              </td><td>2.0                </td><td>0.0               </td><td>74.5             </td><td>0.0            </td><td>0.5          </td></tr>\n",
       "<tr><td><i style='opacity: 0.6'>2</i>         </td><td>0.0               </td><td>0.0              </td><td>1.0                </td><td>0.0               </td><td>1.0              </td><td>0.1            </td><td>0.0          </td></tr>\n",
       "<tr><td><i style='opacity: 0.6'>3</i>         </td><td>0.0               </td><td>0.0              </td><td>1.0                </td><td>0.0               </td><td>3.25             </td><td>0.0            </td><td>0.0          </td></tr>\n",
       "<tr><td><i style='opacity: 0.6'>4</i>         </td><td>0.0               </td><td>0.0              </td><td>1.0                </td><td>0.0               </td><td>8.5              </td><td>0.0            </td><td>0.5          </td></tr>\n",
       "<tr><td>...                                   </td><td>...               </td><td>...              </td><td>...                </td><td>...               </td><td>...              </td><td>...            </td><td>...          </td></tr>\n",
       "<tr><td><i style='opacity: 0.6'>43,878,099</i></td><td>-73.9957733154297 </td><td>40.6973762512207 </td><td>-73.9094009399414  </td><td>40.70884704589844 </td><td>1.0              </td><td>5.18           </td><td>21.5         </td></tr>\n",
       "<tr><td><i style='opacity: 0.6'>43,878,100</i></td><td>-73.99163055419923</td><td>40.69097137451172</td><td>-73.97225189208984 </td><td>40.6951560974121  </td><td>1.0              </td><td>1.53           </td><td>8.5          </td></tr>\n",
       "<tr><td><i style='opacity: 0.6'>43,878,101</i></td><td>-73.95021057128906</td><td>40.67359161376953</td><td>-73.96468353271484 </td><td>40.68282318115234 </td><td>1.0              </td><td>1.35           </td><td>7.0          </td></tr>\n",
       "<tr><td><i style='opacity: 0.6'>43,878,102</i></td><td>-73.95361328125   </td><td>40.79080581665039</td><td>-73.9559326171875  </td><td>40.77948760986328 </td><td>1.0              </td><td>1.01           </td><td>5.0          </td></tr>\n",
       "<tr><td><i style='opacity: 0.6'>43,878,103</i></td><td>-73.9537811279297 </td><td>40.79070663452149</td><td>-73.96780395507811 </td><td>40.80104064941406 </td><td>1.0              </td><td>1.54           </td><td>6.5          </td></tr>\n",
       "</tbody>\n",
       "</table>"
      ],
      "text/plain": [
       "#           Pickup_longitude    Pickup_latitude    Dropoff_longitude    Dropoff_latitude    Passenger_count    Trip_distance    Fare_amount\n",
       "0           0.0                 0.0                1.0                  0.0                 21.25              0.0              0.0\n",
       "1           0.0                 0.0                2.0                  0.0                 74.5               0.0              0.5\n",
       "2           0.0                 0.0                1.0                  0.0                 1.0                0.1              0.0\n",
       "3           0.0                 0.0                1.0                  0.0                 3.25               0.0              0.0\n",
       "4           0.0                 0.0                1.0                  0.0                 8.5                0.0              0.5\n",
       "...         ...                 ...                ...                  ...                 ...                ...              ...\n",
       "43,878,099  -73.9957733154297   40.6973762512207   -73.9094009399414    40.70884704589844   1.0                5.18             21.5\n",
       "43,878,100  -73.99163055419923  40.69097137451172  -73.97225189208984   40.6951560974121    1.0                1.53             8.5\n",
       "43,878,101  -73.95021057128906  40.67359161376953  -73.96468353271484   40.68282318115234   1.0                1.35             7.0\n",
       "43,878,102  -73.95361328125     40.79080581665039  -73.9559326171875    40.77948760986328   1.0                1.01             5.0\n",
       "43,878,103  -73.9537811279297   40.79070663452149  -73.96780395507811   40.80104064941406   1.0                1.54             6.5"
      ]
     },
     "execution_count": 7,
     "metadata": {},
     "output_type": "execute_result"
    }
   ],
   "source": [
    "df"
   ]
  },
  {
   "cell_type": "code",
   "execution_count": 8,
   "metadata": {},
   "outputs": [
    {
     "data": {
      "text/html": [
       "<div>\n",
       "<style scoped>\n",
       "    .dataframe tbody tr th:only-of-type {\n",
       "        vertical-align: middle;\n",
       "    }\n",
       "\n",
       "    .dataframe tbody tr th {\n",
       "        vertical-align: top;\n",
       "    }\n",
       "\n",
       "    .dataframe thead th {\n",
       "        text-align: right;\n",
       "    }\n",
       "</style>\n",
       "<table border=\"1\" class=\"dataframe\">\n",
       "  <thead>\n",
       "    <tr style=\"text-align: right;\">\n",
       "      <th></th>\n",
       "      <th>Pickup_longitude</th>\n",
       "      <th>Pickup_latitude</th>\n",
       "      <th>Dropoff_longitude</th>\n",
       "      <th>Dropoff_latitude</th>\n",
       "      <th>Passenger_count</th>\n",
       "      <th>Trip_distance</th>\n",
       "      <th>Fare_amount</th>\n",
       "    </tr>\n",
       "  </thead>\n",
       "  <tbody>\n",
       "    <tr>\n",
       "      <td>dtype</td>\n",
       "      <td>float64</td>\n",
       "      <td>float64</td>\n",
       "      <td>float64</td>\n",
       "      <td>float64</td>\n",
       "      <td>float64</td>\n",
       "      <td>float64</td>\n",
       "      <td>float64</td>\n",
       "    </tr>\n",
       "    <tr>\n",
       "      <td>count</td>\n",
       "      <td>43878104</td>\n",
       "      <td>43878104</td>\n",
       "      <td>43878104</td>\n",
       "      <td>43878104</td>\n",
       "      <td>43878104</td>\n",
       "      <td>43878104</td>\n",
       "      <td>43878104</td>\n",
       "    </tr>\n",
       "    <tr>\n",
       "      <td>NA</td>\n",
       "      <td>0</td>\n",
       "      <td>0</td>\n",
       "      <td>0</td>\n",
       "      <td>0</td>\n",
       "      <td>0</td>\n",
       "      <td>0</td>\n",
       "      <td>0</td>\n",
       "    </tr>\n",
       "    <tr>\n",
       "      <td>mean</td>\n",
       "      <td>-73.818806356988</td>\n",
       "      <td>40.68658404343249</td>\n",
       "      <td>-30.064358493858435</td>\n",
       "      <td>18.722017490525612</td>\n",
       "      <td>7.767653605315348</td>\n",
       "      <td>1.4054471840897644</td>\n",
       "      <td>5.4165823370581725</td>\n",
       "    </tr>\n",
       "    <tr>\n",
       "      <td>std</td>\n",
       "      <td>2.92958</td>\n",
       "      <td>1.61401</td>\n",
       "      <td>37.1712</td>\n",
       "      <td>18.7945</td>\n",
       "      <td>9.92482</td>\n",
       "      <td>2.32052</td>\n",
       "      <td>8.81667</td>\n",
       "    </tr>\n",
       "    <tr>\n",
       "      <td>min</td>\n",
       "      <td>-122.4</td>\n",
       "      <td>0</td>\n",
       "      <td>-122.392</td>\n",
       "      <td>0</td>\n",
       "      <td>-499</td>\n",
       "      <td>-1</td>\n",
       "      <td>-499</td>\n",
       "    </tr>\n",
       "    <tr>\n",
       "      <td>max</td>\n",
       "      <td>0</td>\n",
       "      <td>45.0943</td>\n",
       "      <td>9</td>\n",
       "      <td>830.4</td>\n",
       "      <td>9999.99</td>\n",
       "      <td>832.2</td>\n",
       "      <td>3498.5</td>\n",
       "    </tr>\n",
       "  </tbody>\n",
       "</table>\n",
       "</div>"
      ],
      "text/plain": [
       "       Pickup_longitude    Pickup_latitude    Dropoff_longitude  \\\n",
       "dtype           float64            float64              float64   \n",
       "count          43878104           43878104             43878104   \n",
       "NA                    0                  0                    0   \n",
       "mean   -73.818806356988  40.68658404343249  -30.064358493858435   \n",
       "std             2.92958            1.61401              37.1712   \n",
       "min              -122.4                  0             -122.392   \n",
       "max                   0            45.0943                    9   \n",
       "\n",
       "         Dropoff_latitude    Passenger_count       Trip_distance  \\\n",
       "dtype             float64            float64             float64   \n",
       "count            43878104           43878104            43878104   \n",
       "NA                      0                  0                   0   \n",
       "mean   18.722017490525612  7.767653605315348  1.4054471840897644   \n",
       "std               18.7945            9.92482             2.32052   \n",
       "min                     0               -499                  -1   \n",
       "max                 830.4            9999.99               832.2   \n",
       "\n",
       "              Fare_amount  \n",
       "dtype             float64  \n",
       "count            43878104  \n",
       "NA                      0  \n",
       "mean   5.4165823370581725  \n",
       "std               8.81667  \n",
       "min                  -499  \n",
       "max                3498.5  "
      ]
     },
     "execution_count": 8,
     "metadata": {},
     "output_type": "execute_result"
    }
   ],
   "source": [
    "df.describe()"
   ]
  },
  {
   "cell_type": "code",
   "execution_count": 15,
   "metadata": {},
   "outputs": [],
   "source": [
    "# Define the boundaries by interactively choosing the area of interest!\n",
    "long_min = -74.05\n",
    "long_max = -73.75\n",
    "lat_min = 40.58\n",
    "lat_max = 40.90\n",
    "\n",
    "# Make a selection based on the boundaries\n",
    "df_filtered = df[(df.Pickup_longitude > long_min)  & (df.Pickup_longitude < long_max) & \\\n",
    "                 (df.Pickup_latitude > lat_min)    & (df.Pickup_latitude < lat_max) & \\\n",
    "                 (df.Dropoff_longitude > long_min) & (df.Dropoff_longitude < long_max) & \\\n",
    "                 (df.Dropoff_latitude > lat_min)   & (df.Dropoff_latitude < lat_max)]"
   ]
  },
  {
   "cell_type": "code",
   "execution_count": 19,
   "metadata": {},
   "outputs": [
    {
     "name": "stdout",
     "output_type": "stream",
     "text": [
      "[#---------------------------------------] 100.00% elapsed time  :     0.08s =  0.0m =  0.0h\n",
      " "
     ]
    },
    {
     "data": {
      "image/png": "[encoded data removed]",
      "text/plain": [
       "<Figure size 1152x288 with 1 Axes>"
      ]
     },
     "metadata": {
      "needs_background": "light"
     },
     "output_type": "display_data"
    }
   ],
   "source": [
    "# Get number of unique trips with certain number of passengers\n",
    "num_passengers = df_filtered.Passenger_count.value_counts(progress=True)\n",
    "\n",
    "# Plot the result\n",
    "plt.figure(figsize=(16, 4))\n",
    "sns.barplot(x=num_passengers.index, y=np.log10(num_passengers.values))\n",
    "plt.xlabel('Number of passengers')\n",
    "plt.ylabel('Number of trips [dex]')\n",
    "plt.xticks(rotation='45')\n",
    "plt.show()"
   ]
  },
  {
   "cell_type": "code",
   "execution_count": null,
   "metadata": {},
   "outputs": [],
   "source": []
  }
 ],
 "metadata": {
  "kernelspec": {
   "display_name": "Python 3",
   "language": "python",
   "name": "python3"
  },
  "language_info": {
   "codemirror_mode": {
    "name": "ipython",
    "version": 3
   },
   "file_extension": ".py",
   "mimetype": "text/x-python",
   "name": "python",
   "nbconvert_exporter": "python",
   "pygments_lexer": "ipython3",
   "version": "3.7.4"
  }
 },
 "nbformat": 4,
 "nbformat_minor": 2
}
