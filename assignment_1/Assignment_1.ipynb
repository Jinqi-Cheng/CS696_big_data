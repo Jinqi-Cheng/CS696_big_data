{
 "cells": [
  {
   "cell_type": "markdown",
   "metadata": {},
   "source": [
    "# Assignment 1 Jinqi Cheng"
   ]
  },
  {
   "cell_type": "markdown",
   "metadata": {},
   "source": [
    "## File Paths"
   ]
  },
  {
   "cell_type": "code",
   "execution_count": 29,
   "metadata": {},
   "outputs": [],
   "source": [
    "weather_path = \"./US_WeatherEvents_2016-2019.csv\"\n",
    "trump_tweets_path = \"./trumptweets.csv\"\n",
    "\n",
    "test_weatherfile = \"weathertest.csv\""
   ]
  },
  {
   "cell_type": "code",
   "execution_count": 7,
   "metadata": {
    "pycharm": {
     "is_executing": false
    }
   },
   "outputs": [],
   "source": [
    "import pandas as pd\n",
    "import numpy as np\n",
    "import matplotlib.pyplot as plt"
   ]
  },
  {
   "cell_type": "markdown",
   "metadata": {},
   "source": [
    "## Weather data"
   ]
  },
  {
   "cell_type": "code",
   "execution_count": 8,
   "metadata": {
    "pycharm": {
     "is_executing": false
    }
   },
   "outputs": [],
   "source": [
    "weather_data = pd.read_csv(weather_path)\n",
    "weather_df = pd.read_csv(weatherfile)"
   ]
  },
  {
   "cell_type": "markdown",
   "metadata": {},
   "source": [
    "__Question 1__\n",
    "\n",
    "How many snow events were recorded?"
   ]
  },
  {
   "cell_type": "code",
   "execution_count": 9,
   "metadata": {
    "pycharm": {
     "is_executing": false,
     "name": "#%% \n"
    }
   },
   "outputs": [
    {
     "name": "stdout",
     "output_type": "stream",
     "text": [
      "There are  679472  snow events were recorded\n"
     ]
    }
   ],
   "source": [
    "num_snow_events = len(weather_data[weather_data.Type==\"Snow\"])\n",
    "print(\"There are \", num_snow_events, \" snow events were recorded\")"
   ]
  },
  {
   "cell_type": "markdown",
   "metadata": {},
   "source": [
    "__Question 2__\n",
    "\n",
    "How many moderate snow events were recorded each year? Produce a table and line plot"
   ]
  },
  {
   "cell_type": "code",
   "execution_count": 10,
   "metadata": {
    "pycharm": {
     "is_executing": false,
     "name": "#%% \n"
    }
   },
   "outputs": [
    {
     "name": "stdout",
     "output_type": "stream",
     "text": [
      "Second column indicates the number of moderate snow\n",
      "Year\n",
      "2016    16899\n",
      "2017    15778\n",
      "2018    18674\n",
      "2019    22290\n",
      "Name: EventId, dtype: int64\n"
     ]
    },
    {
     "data": {
      "image/png": "[encoded data removed]",
      "text/plain": [
       "<Figure size 432x288 with 1 Axes>"
      ]
     },
     "metadata": {
      "needs_background": "light"
     },
     "output_type": "display_data"
    }
   ],
   "source": [
    "end_time = weather_data[\"EndTime(UTC)\"].values.tolist()\n",
    "\n",
    "#get years from timestamps\n",
    "year = [i[0:4] for i in end_time]\n",
    "\n",
    "#create a new column containing years\n",
    "year_series = pd.Series(year)\n",
    "weather_data['Year'] = year_series\n",
    "\n",
    "#count the number of moderate snow by year\n",
    "mod_snow_table = weather_data[(weather_data.Type==\"Snow\")&(weather_data.Severity==\"Moderate\")].groupby(\"Year\").count()[\"EventId\"]\n",
    "x = mod_snow_table.index.values.tolist()\n",
    "y = mod_snow_table.values.tolist()\n",
    "\n",
    "print(\"Second column indicates the number of moderate snow\")\n",
    "print(mod_snow_table)\n",
    "plt.plot(x,y)\n",
    "plt.xlabel(\"year\")\n",
    "plt.ylabel(\"number of moderate snow\")\n",
    "plt.show()"
   ]
  },
  {
   "cell_type": "markdown",
   "metadata": {},
   "source": [
    "__Question 3__\n",
    "\n",
    "How many snow events were recorded in each state?"
   ]
  },
  {
   "cell_type": "code",
   "execution_count": 36,
   "metadata": {
    "pycharm": {
     "is_executing": false,
     "name": "#%%\n"
    }
   },
   "outputs": [
    {
     "name": "stdout",
     "output_type": "stream",
     "text": [
      "State\n",
      "AL      701\n",
      "AR     1461\n",
      "AZ     4973\n",
      "CA     8727\n",
      "CO    38218\n",
      "CT     3200\n",
      "DE      663\n",
      "FL       69\n",
      "GA     1021\n",
      "IA    26408\n",
      "ID    19491\n",
      "IL    17429\n",
      "IN    12838\n",
      "KS     5758\n",
      "KY     5449\n",
      "LA      401\n",
      "MA     9595\n",
      "MD     2842\n",
      "ME    13821\n",
      "MI    76455\n",
      "MN    74201\n",
      "MO     5662\n",
      "MS      535\n",
      "MT    23906\n",
      "NC     4820\n",
      "ND    33522\n",
      "NE    16751\n",
      "NH     9856\n",
      "NJ     3695\n",
      "NM     7561\n",
      "NV     5852\n",
      "NY    28592\n",
      "OH    20848\n",
      "OK     3078\n",
      "OR     8988\n",
      "PA    19555\n",
      "RI     1530\n",
      "SC      837\n",
      "SD    16491\n",
      "TN     1302\n",
      "TX     3351\n",
      "UT     8386\n",
      "VA     9012\n",
      "VT    10124\n",
      "WA    12737\n",
      "WI    46691\n",
      "WV     8423\n",
      "WY    43646\n",
      "Name: EventId, dtype: int64\n"
     ]
    }
   ],
   "source": [
    "#count number of snow events by state\n",
    "state_snow_table = weather_data[(weather_data.Type==\"Snow\")].groupby(\"State\").count()[\"EventId\"]\n",
    "print(state_snow_table)"
   ]
  },
  {
   "cell_type": "markdown",
   "metadata": {},
   "source": [
    "__Question 4__\n",
    "\n",
    "How many snow events were recorded each hour? (Reults will be produced in about 5-10 minutes)"
   ]
  },
  {
   "cell_type": "code",
   "execution_count": 37,
   "metadata": {
    "pycharm": {
     "is_executing": false,
     "name": "#%%\n"
    }
   },
   "outputs": [
    {
     "name": "stdout",
     "output_type": "stream",
     "text": [
      "          0\n",
      "0   1662000\n",
      "1   1675920\n",
      "2   1697112\n",
      "3   1714176\n",
      "4   1738152\n",
      "5   1751568\n",
      "6   1774560\n",
      "7   1789320\n",
      "8   1816176\n",
      "9   1842936\n",
      "10  1876416\n",
      "11  1916856\n",
      "12  1939800\n",
      "13  1969992\n",
      "14  2015784\n",
      "15  2010984\n",
      "16  1949616\n",
      "17  1857888\n",
      "18  1775136\n",
      "19  1728696\n",
      "20  1702704\n",
      "21  1677528\n",
      "22  1666416\n",
      "23  1657344\n"
     ]
    }
   ],
   "source": [
    "#A list that holds the time span for each snow event\n",
    "num_snow_lst = []\n",
    "\n",
    "#A method that calculates the hour span for each snow event\n",
    "def count(x):\n",
    "    start_time,end_time = x\n",
    "    time_span = pd.to_datetime(end_time)-pd.to_datetime(start_time)\n",
    "    hour_span = [time_span.days]*24\n",
    "    start_hour,end_hour = pd.to_datetime(start_time).hour,pd.to_datetime(end_time).hour\n",
    "    index = start_hour\n",
    "    while True:\n",
    "        hour_span[index] += 1\n",
    "        if index==end_hour:\n",
    "            break\n",
    "        index = (index+1)%24\n",
    "    for i in range(len(hour_span)):\n",
    "        num_snow_lst.append(hour_span)\n",
    "\n",
    "#sum up the hour span for all snow events\n",
    "weather_data[\"hour_span\"] = weather_data[(weather_data.Type==\"Snow\")].apply(lambda x:[x[\"StartTime(UTC)\"],x[\"EndTime(UTC)\"]],axis=1)\n",
    "weather_data[(weather_data.Type==\"Snow\")].hour_span.apply(count)\n",
    "num_snow_lst = np.array(num_snow_lst)\n",
    "num_snow_lst = np.sum(num_snow_lst,0)\n",
    "hour_list = [i for i in range(24)]\n",
    "df = pd.DataFrame(num_snow_lst)\n",
    "print(df.to_string())"
   ]
  },
  {
   "cell_type": "markdown",
   "metadata": {},
   "source": [
    "__Question 5__\n",
    "\n",
    "How many events of each severity did San Diego have? Produce a table and bar plot."
   ]
  },
  {
   "cell_type": "code",
   "execution_count": 38,
   "metadata": {
    "pycharm": {
     "is_executing": false,
     "name": "#%%\n"
    }
   },
   "outputs": [
    {
     "name": "stdout",
     "output_type": "stream",
     "text": [
      "Severity\n",
      "Heavy         62\n",
      "Light       2870\n",
      "Moderate    1992\n",
      "Other          3\n",
      "Severe      1365\n",
      "UNK           15\n",
      "Name: EventId, dtype: int64\n"
     ]
    },
    {
     "data": {
      "image/png": "[encoded data removed]",
      "text/plain": [
       "<Figure size 432x288 with 1 Axes>"
      ]
     },
     "metadata": {
      "needs_background": "light"
     },
     "output_type": "display_data"
    }
   ],
   "source": [
    "# count number of events by severity in San Diego\n",
    "table = weather_data[(weather_data.City==\"San Diego\")].groupby(\"Severity\").count()[\"EventId\"]\n",
    "print(table)\n",
    "x = table.index.values.tolist()\n",
    "y = table.values.tolist()\n",
    "plt.bar(range(len(y)),y,tick_label=x)\n",
    "plt.show()"
   ]
  },
  {
   "cell_type": "markdown",
   "metadata": {
    "pycharm": {
     "name": "#%% md\n"
    }
   },
   "source": [
    "## Trump Tweets"
   ]
  },
  {
   "cell_type": "code",
   "execution_count": 19,
   "metadata": {
    "pycharm": {
     "is_executing": false,
     "name": "#%%\n"
    }
   },
   "outputs": [],
   "source": [
    "trump_tweets_data = pd.read_csv(trump_tweets_path)"
   ]
  },
  {
   "cell_type": "markdown",
   "metadata": {
    "pycharm": {
     "name": "#%% md\n"
    }
   },
   "source": [
    "__Question 1__\n",
    "\n",
    "How many tweets did the President make each year? Produce a table of results and plot\n",
    "the values."
   ]
  },
  {
   "cell_type": "code",
   "execution_count": 39,
   "metadata": {
    "pycharm": {
     "is_executing": false,
     "name": "#%%\n"
    }
   },
   "outputs": [
    {
     "name": "stdout",
     "output_type": "stream",
     "text": [
      "Year\n",
      "2009      56\n",
      "2010     143\n",
      "2011     870\n",
      "2012    4190\n",
      "2013    8207\n",
      "2014    5987\n",
      "2015    7719\n",
      "2016    3951\n",
      "2017    2232\n",
      "2018    2998\n",
      "2019    4588\n",
      "2020     181\n",
      "Name: id, dtype: int64\n"
     ]
    },
    {
     "data": {
      "image/png": "[encoded data removed]",
      "text/plain": [
       "<Figure size 432x288 with 1 Axes>"
      ]
     },
     "metadata": {
      "needs_background": "light"
     },
     "output_type": "display_data"
    }
   ],
   "source": [
    "tweet_date = trump_tweets_data[\"date\"].values.tolist()\n",
    "\n",
    "#get the year from tweet_date\n",
    "year = [i[0:4] for i in tweet_date]\n",
    "year_series = pd.Series(year)\n",
    "\n",
    "#create a new column \"year\"\n",
    "trump_tweets_data['Year'] = year_series\n",
    "\n",
    "#get the number of tweets by year\n",
    "table = trump_tweets_data.groupby(\"Year\").count()['id']\n",
    "\n",
    "print(table)\n",
    "x = table.index.values.tolist()\n",
    "y = table.values.tolist()\n",
    "plt.bar(range(len(y)),y,tick_label=x)\n",
    "plt.show()"
   ]
  },
  {
   "cell_type": "markdown",
   "metadata": {},
   "source": [
    "__Question 2__\n",
    "\n",
    "How many tweets contain \"Fake News\"?"
   ]
  },
  {
   "cell_type": "code",
   "execution_count": 40,
   "metadata": {
    "pycharm": {
     "is_executing": false,
     "name": "#%%\n"
    }
   },
   "outputs": [
    {
     "name": "stdout",
     "output_type": "stream",
     "text": [
      "case sensitive \"Fake News\":  477\n",
      "not case sensitive \"Fake News\":  560\n"
     ]
    }
   ],
   "source": [
    "tweets_contains_fake_news = trump_tweets_data[trump_tweets_data.content.str.contains(\"Fake News\")].content.count()\n",
    "print(\"case sensitive \\\"Fake News\\\": \", tweets_contains_fake_news)\n",
    "\n",
    "tweets_contains_fake_news2 = trump_tweets_data[trump_tweets_data.content.str.contains(\"Fake News\",case=False)].content.count()\n",
    "print(\"not case sensitive \\\"Fake News\\\": \", tweets_contains_fake_news2)"
   ]
  },
  {
   "cell_type": "markdown",
   "metadata": {},
   "source": [
    "__Question 3__\n",
    "\n",
    "A tweet with the location could be considered a security issue as it would give the current\n",
    "location of the President. How many tweets contain a location?"
   ]
  },
  {
   "cell_type": "code",
   "execution_count": 41,
   "metadata": {
    "pycharm": {
     "is_executing": false,
     "name": "#%%\n"
    }
   },
   "outputs": [
    {
     "name": "stdout",
     "output_type": "stream",
     "text": [
      "Empty DataFrame\n",
      "Columns: [id, link, content, date, retweets, favorites, mentions, hashtags, geo, Year]\n",
      "Index: []\n",
      "No tweet contains a location. Geo column is empty\n"
     ]
    }
   ],
   "source": [
    "t = trump_tweets_data[trump_tweets_data.geo.notnull()]\n",
    "print(t)\n",
    "print(\"No tweet contains a location. Geo column is empty\")"
   ]
  },
  {
   "cell_type": "markdown",
   "metadata": {},
   "source": [
    "__Question 4__\n",
    "\n",
    "How many tweets were done each hour? Produce a table and a plot."
   ]
  },
  {
   "cell_type": "code",
   "execution_count": 42,
   "metadata": {
    "pycharm": {
     "is_executing": false,
     "name": "#%%\n"
    }
   },
   "outputs": [
    {
     "name": "stdout",
     "output_type": "stream",
     "text": [
      "Hour\n",
      "00    1620\n",
      "01    1522\n",
      "02    1795\n",
      "03    1974\n",
      "04    2076\n",
      "05    1258\n",
      "06     831\n",
      "07     400\n",
      "08     347\n",
      "09     321\n",
      "10     458\n",
      "11     706\n",
      "12    1377\n",
      "13    2226\n",
      "14    2448\n",
      "15    2544\n",
      "16    2319\n",
      "17    2146\n",
      "18    2025\n",
      "19    2095\n",
      "20    2696\n",
      "21    3184\n",
      "22    3050\n",
      "23    1704\n",
      "Name: id, dtype: int64\n"
     ]
    },
    {
     "data": {
      "image/png": "[encoded data removed]",
      "text/plain": [
       "<Figure size 432x288 with 1 Axes>"
      ]
     },
     "metadata": {
      "needs_background": "light"
     },
     "output_type": "display_data"
    }
   ],
   "source": [
    "tweets_per_hour = trump_tweets_data[\"date\"].values.tolist()\n",
    "\n",
    "#get the hour from timestamp\n",
    "hour = [i[-8:-6] for i in tweets_per_hour]\n",
    "\n",
    "#create a new column \"hour\"\n",
    "hour_series = pd.Series(hour)\n",
    "trump_tweets_data['Hour'] = hour_series\n",
    "\n",
    "#count number of tweets in each hour\n",
    "table = trump_tweets_data.groupby(\"Hour\").count()[\"id\"]\n",
    "print(table)\n",
    "x = table.index.values.tolist()\n",
    "y = table.values.tolist()\n",
    "plt.bar(range(len(y)),y,tick_label=x)\n",
    "plt.show()"
   ]
  }
 ],
 "metadata": {
  "kernelspec": {
   "display_name": "Python 3",
   "language": "python",
   "name": "python3"
  },
  "language_info": {
   "codemirror_mode": {
    "name": "ipython",
    "version": 3
   },
   "file_extension": ".py",
   "mimetype": "text/x-python",
   "name": "python",
   "nbconvert_exporter": "python",
   "pygments_lexer": "ipython3",
   "version": "3.7.4"
  },
  "pycharm": {
   "stem_cell": {
    "cell_type": "raw",
    "metadata": {
     "collapsed": false
    },
    "source": []
   }
  }
 },
 "nbformat": 4,
 "nbformat_minor": 2
}
